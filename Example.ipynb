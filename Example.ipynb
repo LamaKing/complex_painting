{
 "cells": [
  {
   "cell_type": "code",
   "execution_count": 3,
   "metadata": {},
   "outputs": [],
   "source": [
    "import numpy as np\n",
    "from PIL import Image\n",
    "import matplotlib.pyplot as plt\n",
    "import cplot"
   ]
  },
  {
   "cell_type": "code",
   "execution_count": 1,
   "metadata": {},
   "outputs": [
    {
     "name": "stdout",
     "output_type": "stream",
     "text": [
      "1883 2498 0.7538030424339471\n",
      "941 1249 0.7534027221777422\n",
      "(1249, 941, 3)\n",
      "(941, 1249, 3)\n",
      "(1175309, 4)\n",
      "1.3273113708820403\n",
      "(1175309,)\n"
     ]
    }
   ],
   "source": [
    "\n",
    "fname, paint = './Gaugin.jpg', 'Paul Gaugin'\n",
    "# fname, paint = './van_gogh.jpg', 'Vincent van Gogh'\n",
    "# fname, paint = './mondriaan.jpg', 'Piet Mondrian'\n",
    "image = Image.open(fname)\n",
    "\n",
    "width, height = image.size\n",
    "print(width, height, width/height)\n",
    "scale = 2\n",
    "image = image.resize((width//scale, height//scale))\n",
    "width, height = image.size\n",
    "print(width, height, width/height)\n",
    "im = np.array(image)\n",
    "print(im.shape)\n",
    "# plt.imshow(im)\n",
    "# plt.show()\n",
    "\n",
    "im = np.array(image.rotate(-90, expand=True))\n",
    "\n",
    "print(im.shape)\n",
    "nx, ny = im.shape[0], im.shape[1]\n",
    "imlist = np.array([[*im[i,j]/255,1] for i in range(nx) for j in range(ny)])\n",
    "print(imlist.shape)\n",
    "\n",
    "ratio = ny/nx\n",
    "print(ratio)\n",
    "x0, x1, y0, y1 = -2, 2, -2*ratio, 2*ratio\n",
    "p = np.array([i + 1.j*j for i in np.linspace(x0,x1,nx) for j in np.linspace(y0,y1,ny)], dtype=np.complex_)\n",
    "print(p.shape)\n",
    "# plt.scatter(p.real, p.imag, c=imlist, marker='.')\n",
    "# plt.gca().set_aspect('equal')\n",
    "# plt.show()"
   ]
  },
  {
   "cell_type": "code",
   "execution_count": null,
   "metadata": {
    "scrolled": false
   },
   "outputs": [],
   "source": [
    "f_list = [\n",
    "    lambda z: np.cos(z-1),\n",
    "    lambda z: (2*z+1)/(5*z-5/2),\n",
    "    lambda z: z**2-1,\n",
    "    lambda z: np.log(z+1)\n",
    "]\n",
    "label_list = [\n",
    "    r'$\\cos(z-1)$',\n",
    "    r'$\\frac{2 z + 1}{5 z-5/2}$',\n",
    "    r'$z^2-1$',\n",
    "    r'$\\log(z)$'\n",
    "]\n",
    "\n",
    "ind = 1\n",
    "f, label = f_list[ind], label_list[ind]\n",
    "\n",
    "fig, (ax_orig, ax_map) = plt.subplots(1,2, dpi=150)\n",
    "fig.suptitle(r'%s via %s' % (paint, label))\n",
    "ax_orig.set_aspect('equal')\n",
    "ax_map.set_aspect('equal')\n",
    "\n",
    "ax_orig.scatter(p.real, p.imag, c=imlist, marker='.')\n",
    "plt.sca(ax_orig)\n",
    "plt = cplot.plot_contours(f,    \n",
    "                          (x0, x1, 400),\n",
    "                          (y0, y1, 400),\n",
    "                         )\n",
    "ax_orig.set_xlim([x0, x1])\n",
    "ax_orig.set_ylim([y0, y1])\n",
    "fofp = f(p)\n",
    "ax_map.scatter(fofp.real, fofp.imag, c=imlist, marker='.')\n",
    "# ax_map.set_xlim([-1, 2])\n",
    "# ax_map.set_ylim([-3, 3])\n",
    "\n",
    "# side = 0.9\n",
    "# ax_map.set_xlim([-side, side])\n",
    "# ax_map.set_ylim([-side, side])\n",
    "\n",
    "# Mobieus transform (ind 1?)\n",
    "ax_map.set_xlim([-0.1, 1])\n",
    "ax_map.set_ylim([-0.6, 0.6])\n",
    "\n",
    "\n",
    "plt.tight_layout()\n",
    "plt.show()\n"
   ]
  }
 ],
 "metadata": {
  "kernelspec": {
   "display_name": "Python 3",
   "language": "python",
   "name": "python3"
  },
  "language_info": {
   "codemirror_mode": {
    "name": "ipython",
    "version": 3
   },
   "file_extension": ".py",
   "mimetype": "text/x-python",
   "name": "python",
   "nbconvert_exporter": "python",
   "pygments_lexer": "ipython3",
   "version": "3.7.11"
  }
 },
 "nbformat": 4,
 "nbformat_minor": 4
}
